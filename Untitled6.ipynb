{
  "nbformat": 4,
  "nbformat_minor": 0,
  "metadata": {
    "colab": {
      "provenance": [],
      "authorship_tag": "ABX9TyM2mKBIXm03EYC3R4kXFdUk",
      "include_colab_link": true
    },
    "kernelspec": {
      "name": "python3",
      "display_name": "Python 3"
    },
    "language_info": {
      "name": "python"
    }
  },
  "cells": [
    {
      "cell_type": "markdown",
      "metadata": {
        "id": "view-in-github",
        "colab_type": "text"
      },
      "source": [
        "<a href=\"https://colab.research.google.com/github/rohankumar2001/class-practice/blob/main/Untitled6.ipynb\" target=\"_parent\"><img src=\"https://colab.research.google.com/assets/colab-badge.svg\" alt=\"Open In Colab\"/></a>"
      ]
    },
    {
      "cell_type": "code",
      "execution_count": null,
      "metadata": {
        "colab": {
          "base_uri": "https://localhost:8080/"
        },
        "id": "F6dG26N6YYhK",
        "outputId": "0b6c932c-5a10-45e7-82b7-cad4f3c6dbc5"
      },
      "outputs": [
        {
          "output_type": "stream",
          "name": "stdout",
          "text": [
            "Requirement already satisfied: lyrics-extractor in /usr/local/lib/python3.10/dist-packages (3.0.1)\n",
            "Requirement already satisfied: beautifulsoup4 in /usr/local/lib/python3.10/dist-packages (from lyrics-extractor) (4.11.2)\n",
            "Requirement already satisfied: lxml in /usr/local/lib/python3.10/dist-packages (from lyrics-extractor) (4.9.2)\n",
            "Requirement already satisfied: requests in /usr/local/lib/python3.10/dist-packages (from lyrics-extractor) (2.27.1)\n",
            "Requirement already satisfied: soupsieve>1.2 in /usr/local/lib/python3.10/dist-packages (from beautifulsoup4->lyrics-extractor) (2.4.1)\n",
            "Requirement already satisfied: urllib3<1.27,>=1.21.1 in /usr/local/lib/python3.10/dist-packages (from requests->lyrics-extractor) (1.26.16)\n",
            "Requirement already satisfied: certifi>=2017.4.17 in /usr/local/lib/python3.10/dist-packages (from requests->lyrics-extractor) (2023.5.7)\n",
            "Requirement already satisfied: charset-normalizer~=2.0.0 in /usr/local/lib/python3.10/dist-packages (from requests->lyrics-extractor) (2.0.12)\n",
            "Requirement already satisfied: idna<4,>=2.5 in /usr/local/lib/python3.10/dist-packages (from requests->lyrics-extractor) (3.4)\n"
          ]
        }
      ],
      "source": [
        "pip install lyrics-extractor"
      ]
    },
    {
      "cell_type": "code",
      "source": [
        "from lyrics_extractor import SongLyrics"
      ],
      "metadata": {
        "id": "NjSS_vv9YpEo"
      },
      "execution_count": null,
      "outputs": []
    },
    {
      "cell_type": "code",
      "source": [
        "print(\"hello world\")"
      ],
      "metadata": {
        "colab": {
          "base_uri": "https://localhost:8080/"
        },
        "id": "eh7lE1u3Zyqs",
        "outputId": "a44cc48b-61c5-4026-db39-71db31a230df"
      },
      "execution_count": null,
      "outputs": [
        {
          "output_type": "stream",
          "name": "stdout",
          "text": [
            "hello world\n"
          ]
        }
      ]
    },
    {
      "cell_type": "code",
      "source": [
        "print(\"rohan kumar is good boy\")"
      ],
      "metadata": {
        "colab": {
          "base_uri": "https://localhost:8080/"
        },
        "id": "KE93ndruaa0Y",
        "outputId": "e1ddd62d-9b4b-4ac1-c0ca-0fb80b104303"
      },
      "execution_count": null,
      "outputs": [
        {
          "output_type": "stream",
          "name": "stdout",
          "text": [
            "rohan kumar is good boy\n"
          ]
        }
      ]
    },
    {
      "cell_type": "code",
      "source": [
        "print('hello world')\n"
      ],
      "metadata": {
        "colab": {
          "base_uri": "https://localhost:8080/"
        },
        "id": "3s_2FeDdagYY",
        "outputId": "1a3431bf-edab-4e0a-b8b3-631a3d8302d7"
      },
      "execution_count": null,
      "outputs": [
        {
          "output_type": "stream",
          "name": "stdout",
          "text": [
            "hello world\n"
          ]
        }
      ]
    },
    {
      "cell_type": "code",
      "source": [
        "x = 3              # a whole number\n",
        "f = 3.1415926      # a floating point number\n",
        "name = \"Python\"\n",
        "print(x)"
      ],
      "metadata": {
        "id": "e1vqpcErbZUL",
        "colab": {
          "base_uri": "https://localhost:8080/"
        },
        "outputId": "e8730df0-3536-4767-da50-9e9442a0b4f9"
      },
      "execution_count": null,
      "outputs": [
        {
          "output_type": "stream",
          "name": "stdout",
          "text": [
            "3\n"
          ]
        }
      ]
    },
    {
      "cell_type": "code",
      "source": [
        "type(name)"
      ],
      "metadata": {
        "colab": {
          "base_uri": "https://localhost:8080/"
        },
        "id": "uEC9O4cF1ZyG",
        "outputId": "caaebe7f-8926-4e1f-f36f-8d00edfb7563"
      },
      "execution_count": null,
      "outputs": [
        {
          "output_type": "execute_result",
          "data": {
            "text/plain": [
              "str"
            ]
          },
          "metadata": {},
          "execution_count": 41
        }
      ]
    },
    {
      "cell_type": "code",
      "source": [
        "print(name[1])"
      ],
      "metadata": {
        "colab": {
          "base_uri": "https://localhost:8080/"
        },
        "id": "SUhExnHT1qbM",
        "outputId": "8631ac8b-3cfa-4898-ccee-38711196e53f"
      },
      "execution_count": null,
      "outputs": [
        {
          "output_type": "stream",
          "name": "stdout",
          "text": [
            "y\n"
          ]
        }
      ]
    },
    {
      "cell_type": "code",
      "source": [
        "print(name[4])"
      ],
      "metadata": {
        "colab": {
          "base_uri": "https://localhost:8080/"
        },
        "id": "xlUChmT21qsO",
        "outputId": "a5615a56-0fa9-4a10-eb6d-5458e21fb85e"
      },
      "execution_count": null,
      "outputs": [
        {
          "output_type": "stream",
          "name": "stdout",
          "text": [
            "o\n"
          ]
        }
      ]
    },
    {
      "cell_type": "code",
      "source": [
        "print(name[5])"
      ],
      "metadata": {
        "colab": {
          "base_uri": "https://localhost:8080/"
        },
        "id": "dGDCn4aI1q33",
        "outputId": "23b14817-976a-4b31-c125-187683e580ec"
      },
      "execution_count": null,
      "outputs": [
        {
          "output_type": "stream",
          "name": "stdout",
          "text": [
            "n\n"
          ]
        }
      ]
    },
    {
      "cell_type": "code",
      "source": [
        "name = \"rohan\""
      ],
      "metadata": {
        "id": "j3tBsN-81q60"
      },
      "execution_count": null,
      "outputs": []
    },
    {
      "cell_type": "code",
      "source": [
        "m = name[0:4]"
      ],
      "metadata": {
        "id": "LuAmoqqS1q-P"
      },
      "execution_count": null,
      "outputs": []
    },
    {
      "cell_type": "code",
      "source": [],
      "metadata": {
        "id": "vH_pPqwf2yLj"
      },
      "execution_count": null,
      "outputs": []
    },
    {
      "cell_type": "markdown",
      "source": [
        "#sub string"
      ],
      "metadata": {
        "id": "evSZMktW3Bl8"
      }
    },
    {
      "cell_type": "code",
      "source": [],
      "metadata": {
        "id": "CLMLIr433Pi7"
      },
      "execution_count": null,
      "outputs": []
    },
    {
      "cell_type": "code",
      "source": [
        "print(m)"
      ],
      "metadata": {
        "colab": {
          "base_uri": "https://localhost:8080/"
        },
        "id": "NZdp4DYF2yFV",
        "outputId": "f70f27e3-f124-464d-c4c3-9c6eecce7ac0"
      },
      "execution_count": null,
      "outputs": [
        {
          "output_type": "stream",
          "name": "stdout",
          "text": [
            "roha\n"
          ]
        }
      ]
    },
    {
      "cell_type": "code",
      "source": [
        "print(f)"
      ],
      "metadata": {
        "colab": {
          "base_uri": "https://localhost:8080/"
        },
        "id": "ptjixyylrnH9",
        "outputId": "84ec14be-d685-4e2c-e4ff-f140d69b5800"
      },
      "execution_count": null,
      "outputs": [
        {
          "output_type": "stream",
          "name": "stdout",
          "text": [
            "3.1415926\n"
          ]
        }
      ]
    },
    {
      "cell_type": "code",
      "source": [
        "print(name)"
      ],
      "metadata": {
        "colab": {
          "base_uri": "https://localhost:8080/"
        },
        "id": "-f3cFdp2rrxl",
        "outputId": "a7fa065f-46b5-4ec8-d9a8-c8c145e07edc"
      },
      "execution_count": null,
      "outputs": [
        {
          "output_type": "stream",
          "name": "stdout",
          "text": [
            "Python\n"
          ]
        }
      ]
    },
    {
      "cell_type": "code",
      "source": [
        "combination = \"x\" + \"x\""
      ],
      "metadata": {
        "id": "k9OygFyGrvDD"
      },
      "execution_count": null,
      "outputs": []
    },
    {
      "cell_type": "code",
      "source": [
        "print(combination)"
      ],
      "metadata": {
        "colab": {
          "base_uri": "https://localhost:8080/"
        },
        "id": "qwf277mCr8bD",
        "outputId": "a837d120-221a-400b-9ad8-ede5058bab09"
      },
      "execution_count": null,
      "outputs": [
        {
          "output_type": "stream",
          "name": "stdout",
          "text": [
            "xx\n"
          ]
        }
      ]
    },
    {
      "cell_type": "code",
      "source": [
        "sum = \"f\" + \"f\"\n"
      ],
      "metadata": {
        "id": "sDpTmneosCZ1"
      },
      "execution_count": null,
      "outputs": []
    },
    {
      "cell_type": "code",
      "source": [
        "print(sum)"
      ],
      "metadata": {
        "colab": {
          "base_uri": "https://localhost:8080/"
        },
        "id": "YK9Sb4grs_1X",
        "outputId": "5279a332-bcad-4f04-fee9-be0a7eef7b4c"
      },
      "execution_count": null,
      "outputs": [
        {
          "output_type": "stream",
          "name": "stdout",
          "text": [
            "ff\n"
          ]
        }
      ]
    },
    {
      "cell_type": "code",
      "source": [
        "print(name)"
      ],
      "metadata": {
        "colab": {
          "base_uri": "https://localhost:8080/"
        },
        "id": "tNRCPo7ztZxF",
        "outputId": "c146dc1f-8afb-4e7a-a063-369c8826e8d1"
      },
      "execution_count": null,
      "outputs": [
        {
          "output_type": "stream",
          "name": "stdout",
          "text": [
            "Python\n"
          ]
        }
      ]
    },
    {
      "cell_type": "code",
      "source": [
        "print(\"python\")"
      ],
      "metadata": {
        "colab": {
          "base_uri": "https://localhost:8080/"
        },
        "id": "iS5gXpB2tswR",
        "outputId": "b3ef03b8-42c4-49b1-e9b0-2adc9e16c7ff"
      },
      "execution_count": null,
      "outputs": [
        {
          "output_type": "stream",
          "name": "stdout",
          "text": [
            "python\n"
          ]
        }
      ]
    },
    {
      "cell_type": "code",
      "source": [
        "print(\"name\")"
      ],
      "metadata": {
        "colab": {
          "base_uri": "https://localhost:8080/"
        },
        "id": "i4dOtxZgtwQx",
        "outputId": "b35afec2-680e-4808-eb50-70317b741cbd"
      },
      "execution_count": null,
      "outputs": [
        {
          "output_type": "stream",
          "name": "stdout",
          "text": [
            "name\n"
          ]
        }
      ]
    },
    {
      "cell_type": "code",
      "source": [
        "combi = \"name\" + \" \" + \"name\""
      ],
      "metadata": {
        "id": "CuRm1QlMtytF"
      },
      "execution_count": null,
      "outputs": []
    },
    {
      "cell_type": "code",
      "source": [
        "print(combi)"
      ],
      "metadata": {
        "colab": {
          "base_uri": "https://localhost:8080/"
        },
        "id": "bMPrgRkgt8u1",
        "outputId": "0ca88471-7e75-48ae-fc97-eccfccb11f07"
      },
      "execution_count": null,
      "outputs": [
        {
          "output_type": "stream",
          "name": "stdout",
          "text": [
            "name name\n"
          ]
        }
      ]
    },
    {
      "cell_type": "code",
      "source": [
        "daysinyear = 370"
      ],
      "metadata": {
        "id": "TLb5VnR3vEBe"
      },
      "execution_count": null,
      "outputs": []
    },
    {
      "cell_type": "code",
      "source": [
        "print(daysinyear)"
      ],
      "metadata": {
        "colab": {
          "base_uri": "https://localhost:8080/"
        },
        "id": "LcJAzbauvryX",
        "outputId": "5d023f38-b6aa-413c-9c1b-f5751412ad9a"
      },
      "execution_count": null,
      "outputs": [
        {
          "output_type": "stream",
          "name": "stdout",
          "text": [
            "370\n"
          ]
        }
      ]
    },
    {
      "cell_type": "code",
      "source": [
        "type(daysinyear)"
      ],
      "metadata": {
        "colab": {
          "base_uri": "https://localhost:8080/"
        },
        "id": "5VBQ-khkwwd9",
        "outputId": "16a41533-2c27-43d8-980e-8856cd228dcf"
      },
      "execution_count": null,
      "outputs": [
        {
          "output_type": "execute_result",
          "data": {
            "text/plain": [
              "int"
            ]
          },
          "metadata": {},
          "execution_count": 33
        }
      ]
    },
    {
      "cell_type": "code",
      "source": [
        "daysInYear = 365\n",
        "daysInMonth = 30\n",
        "numberFiles = 5"
      ],
      "metadata": {
        "id": "FM9hiPpkwIjb"
      },
      "execution_count": null,
      "outputs": []
    },
    {
      "cell_type": "code",
      "source": [
        "print(daysInMonth)"
      ],
      "metadata": {
        "colab": {
          "base_uri": "https://localhost:8080/"
        },
        "id": "7Ezy7JOAwYQG",
        "outputId": "2ecd8d13-deac-4101-85a6-1a1a90db5da4"
      },
      "execution_count": null,
      "outputs": [
        {
          "output_type": "stream",
          "name": "stdout",
          "text": [
            "30\n"
          ]
        }
      ]
    },
    {
      "cell_type": "code",
      "source": [
        "a = [\"1\",\"2\",\"3\"]"
      ],
      "metadata": {
        "id": "tMYxNJZlwcn5"
      },
      "execution_count": null,
      "outputs": []
    },
    {
      "cell_type": "code",
      "source": [
        "print(a)"
      ],
      "metadata": {
        "colab": {
          "base_uri": "https://localhost:8080/"
        },
        "id": "VY_nAMgUxZmR",
        "outputId": "6dd2c643-55b7-43cd-ac6d-0ba4a5241a71"
      },
      "execution_count": null,
      "outputs": [
        {
          "output_type": "stream",
          "name": "stdout",
          "text": [
            "['1', '2', '3']\n"
          ]
        }
      ]
    },
    {
      "cell_type": "code",
      "source": [
        "l = 10\n",
        "u = 20\n",
        "\n",
        "for num in range(l, u + 1):\n",
        "    print(num)"
      ],
      "metadata": {
        "colab": {
          "base_uri": "https://localhost:8080/"
        },
        "id": "4R__wXz3xb93",
        "outputId": "67bdf1ab-d9ef-48ff-9351-9fe0a9ff2cdc"
      },
      "execution_count": null,
      "outputs": [
        {
          "output_type": "stream",
          "name": "stdout",
          "text": [
            "10\n",
            "11\n",
            "12\n",
            "13\n",
            "14\n",
            "15\n",
            "16\n",
            "17\n",
            "18\n",
            "19\n",
            "20\n"
          ]
        }
      ]
    },
    {
      "cell_type": "code",
      "source": [
        "num1 = 64\n",
        "num2 = 32\n",
        "\n",
        "sum = num1 + num2\n",
        "\n",
        "print(sum)\n"
      ],
      "metadata": {
        "colab": {
          "base_uri": "https://localhost:8080/"
        },
        "id": "RWOvyQvhyLPv",
        "outputId": "fd3f0639-11fc-4b09-e606-825566865b78"
      },
      "execution_count": null,
      "outputs": [
        {
          "output_type": "stream",
          "name": "stdout",
          "text": [
            "96\n"
          ]
        }
      ]
    },
    {
      "cell_type": "code",
      "source": [
        "num1 = 64\n",
        "num2 = 32\n",
        "\n",
        "sum = num1 + num2\n",
        "\n",
        "print(\"The sum of\", num1, \"+\", num2, \"is\", sum)\n"
      ],
      "metadata": {
        "colab": {
          "base_uri": "https://localhost:8080/"
        },
        "id": "DkiMwtWiz4Vy",
        "outputId": "779a2f3c-139e-43e0-c5f9-904066ff07dc"
      },
      "execution_count": null,
      "outputs": [
        {
          "output_type": "stream",
          "name": "stdout",
          "text": [
            "The sum of 64 + 32 is 96\n"
          ]
        }
      ]
    },
    {
      "cell_type": "code",
      "source": [
        "x = \"ayushman\""
      ],
      "metadata": {
        "id": "-lHROAHC3SLh"
      },
      "execution_count": null,
      "outputs": []
    },
    {
      "cell_type": "code",
      "source": [
        "y = x[:5]"
      ],
      "metadata": {
        "id": "tcin6s-l3aFg"
      },
      "execution_count": null,
      "outputs": []
    },
    {
      "cell_type": "code",
      "source": [
        "print(y)"
      ],
      "metadata": {
        "colab": {
          "base_uri": "https://localhost:8080/"
        },
        "id": "uLelukOc3jrA",
        "outputId": "719d48b9-78af-40ca-9ce1-90f804d192d3"
      },
      "execution_count": null,
      "outputs": [
        {
          "output_type": "stream",
          "name": "stdout",
          "text": [
            "ayush\n"
          ]
        }
      ]
    },
    {
      "cell_type": "code",
      "source": [
        "s = \"My lucky number is %d, what is yours?\" % 7"
      ],
      "metadata": {
        "id": "pQQMispK3n5F"
      },
      "execution_count": null,
      "outputs": []
    },
    {
      "cell_type": "code",
      "source": [
        "print(s)"
      ],
      "metadata": {
        "colab": {
          "base_uri": "https://localhost:8080/"
        },
        "id": "hH7QUBfp36Ev",
        "outputId": "528ad08b-34d5-4c21-941f-2420c3e8a049"
      },
      "execution_count": null,
      "outputs": [
        {
          "output_type": "stream",
          "name": "stdout",
          "text": [
            "My lucky number is 7, what is yours?\n"
          ]
        }
      ]
    },
    {
      "cell_type": "code",
      "source": [
        "s = \"My lucky number is \" + str(7) + \", what is yours?\""
      ],
      "metadata": {
        "id": "qpjmMDzq38Cx"
      },
      "execution_count": null,
      "outputs": []
    },
    {
      "cell_type": "code",
      "source": [
        "print(s)"
      ],
      "metadata": {
        "colab": {
          "base_uri": "https://localhost:8080/"
        },
        "id": "rkLAN08W5VMc",
        "outputId": "92a7ab1e-0037-4bba-b29d-d5f22955fd79"
      },
      "execution_count": null,
      "outputs": [
        {
          "output_type": "stream",
          "name": "stdout",
          "text": [
            "My lucky number is 7, what is yours?\n"
          ]
        }
      ]
    },
    {
      "cell_type": "code",
      "source": [
        "xnxx = \"salman khan\""
      ],
      "metadata": {
        "id": "Uikc86fh5YmC"
      },
      "execution_count": null,
      "outputs": []
    },
    {
      "cell_type": "code",
      "source": [
        "print(xnxx)"
      ],
      "metadata": {
        "colab": {
          "base_uri": "https://localhost:8080/"
        },
        "id": "e0tfcsyG53dT",
        "outputId": "95e162fb-d7ba-4419-9133-bac65870d77e"
      },
      "execution_count": null,
      "outputs": [
        {
          "output_type": "stream",
          "name": "stdout",
          "text": [
            "salman khan\n"
          ]
        }
      ]
    },
    {
      "cell_type": "code",
      "source": [
        "s = \"My lucky number is %d, what is yours?\" % 7"
      ],
      "metadata": {
        "id": "Ltfot7rT56p2"
      },
      "execution_count": null,
      "outputs": []
    },
    {
      "cell_type": "code",
      "source": [
        "babu = s[3:8]"
      ],
      "metadata": {
        "id": "TZTpqYjs6h2U"
      },
      "execution_count": null,
      "outputs": []
    },
    {
      "cell_type": "code",
      "source": [
        "print(babu)"
      ],
      "metadata": {
        "colab": {
          "base_uri": "https://localhost:8080/"
        },
        "id": "MYhvK8yR6qRL",
        "outputId": "05be2d31-559e-4ea5-ad83-8c26d017c8f5"
      },
      "execution_count": null,
      "outputs": [
        {
          "output_type": "stream",
          "name": "stdout",
          "text": [
            "lucky\n"
          ]
        }
      ]
    },
    {
      "cell_type": "code",
      "source": [
        "from datetime import datetime"
      ],
      "metadata": {
        "id": "G7iMCsF96uxn"
      },
      "execution_count": null,
      "outputs": []
    },
    {
      "cell_type": "code",
      "source": [
        "currentdate = datetime.now()"
      ],
      "metadata": {
        "id": "5cKxzXiX75p8"
      },
      "execution_count": null,
      "outputs": []
    },
    {
      "cell_type": "code",
      "source": [
        "format_date = currentdate.strftime(\n",
        "    \"%-d/%-m/%y\"\n",
        ")"
      ],
      "metadata": {
        "id": "aD9QjNh78JjP"
      },
      "execution_count": null,
      "outputs": []
    },
    {
      "cell_type": "code",
      "source": [
        "print(format_date)"
      ],
      "metadata": {
        "colab": {
          "base_uri": "https://localhost:8080/"
        },
        "id": "nuMpyTPM8mPG",
        "outputId": "a4f038bc-a7cc-4bae-eaa3-b8494ab80f93"
      },
      "execution_count": null,
      "outputs": [
        {
          "output_type": "stream",
          "name": "stdout",
          "text": [
            "10/7/23\n"
          ]
        }
      ]
    },
    {
      "cell_type": "code",
      "source": [
        "rohan = \"today is\" +\" \"+ format_date"
      ],
      "metadata": {
        "id": "68u5FvMY8smx"
      },
      "execution_count": null,
      "outputs": []
    },
    {
      "cell_type": "code",
      "source": [
        "print(rohan)"
      ],
      "metadata": {
        "colab": {
          "base_uri": "https://localhost:8080/"
        },
        "id": "vfV95z8o88r_",
        "outputId": "ada06de1-d150-4a53-8813-6cae9a4343b4"
      },
      "execution_count": null,
      "outputs": [
        {
          "output_type": "stream",
          "name": "stdout",
          "text": [
            "today is 10/7/23\n"
          ]
        }
      ]
    },
    {
      "cell_type": "code",
      "source": [],
      "metadata": {
        "id": "kKBi-7il8_NK"
      },
      "execution_count": null,
      "outputs": []
    }
  ]
}